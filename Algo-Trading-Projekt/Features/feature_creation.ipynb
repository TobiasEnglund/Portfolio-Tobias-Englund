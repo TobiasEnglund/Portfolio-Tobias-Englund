{
 "cells": [
  {
   "cell_type": "markdown",
   "metadata": {},
   "source": [
    "# Feature creation\n",
    "Here I will create features such as signals (buy/sell) and market condition (bearish, bullish, sideways)\n",
    "\n",
    "### Signals\n",
    "**Buy:** If the price increases by 2% within 6 candlesticks (24h on a 4h timeframe)\n",
    "**Sell:** Stop-loss (decreases by) 2% and take-profit (increases by) 4%"
   ]
  },
  {
   "cell_type": "code",
   "execution_count": 2,
   "metadata": {},
   "outputs": [],
   "source": [
    "import pandas as pd"
   ]
  },
  {
   "cell_type": "code",
   "execution_count": 4,
   "metadata": {},
   "outputs": [
    {
     "data": {
      "text/html": [
       "<div>\n",
       "<style scoped>\n",
       "    .dataframe tbody tr th:only-of-type {\n",
       "        vertical-align: middle;\n",
       "    }\n",
       "\n",
       "    .dataframe tbody tr th {\n",
       "        vertical-align: top;\n",
       "    }\n",
       "\n",
       "    .dataframe thead th {\n",
       "        text-align: right;\n",
       "    }\n",
       "</style>\n",
       "<table border=\"1\" class=\"dataframe\">\n",
       "  <thead>\n",
       "    <tr style=\"text-align: right;\">\n",
       "      <th></th>\n",
       "      <th>open</th>\n",
       "      <th>high</th>\n",
       "      <th>low</th>\n",
       "      <th>close</th>\n",
       "      <th>volume</th>\n",
       "    </tr>\n",
       "    <tr>\n",
       "      <th>datetime</th>\n",
       "      <th></th>\n",
       "      <th></th>\n",
       "      <th></th>\n",
       "      <th></th>\n",
       "      <th></th>\n",
       "    </tr>\n",
       "  </thead>\n",
       "  <tbody>\n",
       "    <tr>\n",
       "      <th>2021-10-22 00:00:00</th>\n",
       "      <td>2.141</td>\n",
       "      <td>2.194</td>\n",
       "      <td>2.133</td>\n",
       "      <td>2.185</td>\n",
       "      <td>10918.3</td>\n",
       "    </tr>\n",
       "    <tr>\n",
       "      <th>2021-10-22 04:00:00</th>\n",
       "      <td>2.185</td>\n",
       "      <td>2.202</td>\n",
       "      <td>2.185</td>\n",
       "      <td>2.198</td>\n",
       "      <td>26091.8</td>\n",
       "    </tr>\n",
       "    <tr>\n",
       "      <th>2021-10-22 08:00:00</th>\n",
       "      <td>2.198</td>\n",
       "      <td>2.208</td>\n",
       "      <td>2.182</td>\n",
       "      <td>2.192</td>\n",
       "      <td>24092.3</td>\n",
       "    </tr>\n",
       "    <tr>\n",
       "      <th>2021-10-22 12:00:00</th>\n",
       "      <td>2.192</td>\n",
       "      <td>2.201</td>\n",
       "      <td>2.147</td>\n",
       "      <td>2.151</td>\n",
       "      <td>30423.4</td>\n",
       "    </tr>\n",
       "    <tr>\n",
       "      <th>2021-10-22 16:00:00</th>\n",
       "      <td>2.151</td>\n",
       "      <td>2.183</td>\n",
       "      <td>2.142</td>\n",
       "      <td>2.165</td>\n",
       "      <td>17709.4</td>\n",
       "    </tr>\n",
       "  </tbody>\n",
       "</table>\n",
       "</div>"
      ],
      "text/plain": [
       "                      open   high    low  close   volume\n",
       "datetime                                                \n",
       "2021-10-22 00:00:00  2.141  2.194  2.133  2.185  10918.3\n",
       "2021-10-22 04:00:00  2.185  2.202  2.185  2.198  26091.8\n",
       "2021-10-22 08:00:00  2.198  2.208  2.182  2.192  24092.3\n",
       "2021-10-22 12:00:00  2.192  2.201  2.147  2.151  30423.4\n",
       "2021-10-22 16:00:00  2.151  2.183  2.142  2.165  17709.4"
      ]
     },
     "execution_count": 4,
     "metadata": {},
     "output_type": "execute_result"
    }
   ],
   "source": [
    "df = pd.read_csv(\"../Data/ADA/ADA_USDT_4h.csv\")\n",
    "df[\"datetime\"] = pd.to_datetime(df[\"datetime\"])\n",
    "df.set_index(\"datetime\", inplace=True)\n",
    "\n",
    "df.head(5)"
   ]
  },
  {
   "cell_type": "code",
   "execution_count": 5,
   "metadata": {},
   "outputs": [
    {
     "name": "stdout",
     "output_type": "stream",
     "text": [
      "buy_signal\n",
      "0    4357\n",
      "1     366\n",
      "Name: count, dtype: int64\n",
      "sell_signal\n",
      "0    4358\n",
      "1     365\n",
      "Name: count, dtype: int64\n"
     ]
    }
   ],
   "source": [
    "look_ahead_candles = 6\n",
    "percentage_threshold = 2\n",
    "take_profit_threshold = 4 \n",
    "stop_loss_threshold = -2\n",
    "\n",
    "df['buy_signal'] = 0\n",
    "df['sell_signal'] = 0\n",
    "\n",
    "in_position = False\n",
    "buy_price = None \n",
    "\n",
    "for index in range(len(df) - look_ahead_candles):\n",
    "    current_close = df.at[df.index[index], 'close']\n",
    "    \n",
    "    if in_position:\n",
    "        # Look for a sell only if we're in a position\n",
    "        pct_change_since_buy = ((current_close - buy_price) / buy_price) * 100\n",
    "        \n",
    "        # take-profit or stop-loss\n",
    "        if pct_change_since_buy >= take_profit_threshold or pct_change_since_buy <= stop_loss_threshold:\n",
    "            df.at[df.index[index], 'sell_signal'] = 1\n",
    "            in_position = False \n",
    "    else:\n",
    "        # Look for a buy only if we're not in a position\n",
    "        max_future_close = df['close'][index + 1:index + 1 + look_ahead_candles].max()\n",
    "        max_pct_change = ((max_future_close - current_close) / current_close) * 100\n",
    "\n",
    "        if max_pct_change >= percentage_threshold:\n",
    "            df.at[df.index[index], 'buy_signal'] = 1\n",
    "            buy_price = current_close\n",
    "            in_position = True\n",
    "\n",
    "print(df[\"buy_signal\"].value_counts())\n",
    "print(df[\"sell_signal\"].value_counts())"
   ]
  },
  {
   "cell_type": "code",
   "execution_count": 6,
   "metadata": {},
   "outputs": [],
   "source": [
    "df.to_csv(\"ADA_USDT_Signals.csv\")"
   ]
  },
  {
   "cell_type": "markdown",
   "metadata": {},
   "source": [
    "Because of the poor result in the file feature_selection_signals, I will try a different way of generating signals, without stop/loss and take/profit, and without restrictions of having buy signals be skipped if it's already in position. This means the trading strategy will have to be employed later in the process, but may improve the results for the model."
   ]
  },
  {
   "cell_type": "code",
   "execution_count": 7,
   "metadata": {},
   "outputs": [
    {
     "data": {
      "text/html": [
       "<div>\n",
       "<style scoped>\n",
       "    .dataframe tbody tr th:only-of-type {\n",
       "        vertical-align: middle;\n",
       "    }\n",
       "\n",
       "    .dataframe tbody tr th {\n",
       "        vertical-align: top;\n",
       "    }\n",
       "\n",
       "    .dataframe thead th {\n",
       "        text-align: right;\n",
       "    }\n",
       "</style>\n",
       "<table border=\"1\" class=\"dataframe\">\n",
       "  <thead>\n",
       "    <tr style=\"text-align: right;\">\n",
       "      <th></th>\n",
       "      <th>open</th>\n",
       "      <th>high</th>\n",
       "      <th>low</th>\n",
       "      <th>close</th>\n",
       "      <th>volume</th>\n",
       "    </tr>\n",
       "    <tr>\n",
       "      <th>datetime</th>\n",
       "      <th></th>\n",
       "      <th></th>\n",
       "      <th></th>\n",
       "      <th></th>\n",
       "      <th></th>\n",
       "    </tr>\n",
       "  </thead>\n",
       "  <tbody>\n",
       "    <tr>\n",
       "      <th>2021-10-22 00:00:00</th>\n",
       "      <td>2.141</td>\n",
       "      <td>2.194</td>\n",
       "      <td>2.133</td>\n",
       "      <td>2.185</td>\n",
       "      <td>10918.3</td>\n",
       "    </tr>\n",
       "    <tr>\n",
       "      <th>2021-10-22 04:00:00</th>\n",
       "      <td>2.185</td>\n",
       "      <td>2.202</td>\n",
       "      <td>2.185</td>\n",
       "      <td>2.198</td>\n",
       "      <td>26091.8</td>\n",
       "    </tr>\n",
       "    <tr>\n",
       "      <th>2021-10-22 08:00:00</th>\n",
       "      <td>2.198</td>\n",
       "      <td>2.208</td>\n",
       "      <td>2.182</td>\n",
       "      <td>2.192</td>\n",
       "      <td>24092.3</td>\n",
       "    </tr>\n",
       "    <tr>\n",
       "      <th>2021-10-22 12:00:00</th>\n",
       "      <td>2.192</td>\n",
       "      <td>2.201</td>\n",
       "      <td>2.147</td>\n",
       "      <td>2.151</td>\n",
       "      <td>30423.4</td>\n",
       "    </tr>\n",
       "    <tr>\n",
       "      <th>2021-10-22 16:00:00</th>\n",
       "      <td>2.151</td>\n",
       "      <td>2.183</td>\n",
       "      <td>2.142</td>\n",
       "      <td>2.165</td>\n",
       "      <td>17709.4</td>\n",
       "    </tr>\n",
       "  </tbody>\n",
       "</table>\n",
       "</div>"
      ],
      "text/plain": [
       "                      open   high    low  close   volume\n",
       "datetime                                                \n",
       "2021-10-22 00:00:00  2.141  2.194  2.133  2.185  10918.3\n",
       "2021-10-22 04:00:00  2.185  2.202  2.185  2.198  26091.8\n",
       "2021-10-22 08:00:00  2.198  2.208  2.182  2.192  24092.3\n",
       "2021-10-22 12:00:00  2.192  2.201  2.147  2.151  30423.4\n",
       "2021-10-22 16:00:00  2.151  2.183  2.142  2.165  17709.4"
      ]
     },
     "execution_count": 7,
     "metadata": {},
     "output_type": "execute_result"
    }
   ],
   "source": [
    "df = pd.read_csv(\"../Data/ADA/ADA_USDT_4h.csv\")\n",
    "df[\"datetime\"] = pd.to_datetime(df[\"datetime\"])\n",
    "df.set_index(\"datetime\", inplace=True)\n",
    "\n",
    "df.head(5)"
   ]
  },
  {
   "cell_type": "code",
   "execution_count": 9,
   "metadata": {},
   "outputs": [
    {
     "name": "stdout",
     "output_type": "stream",
     "text": [
      "buy_signal\n",
      "0    3009\n",
      "1    1714\n",
      "Name: count, dtype: int64\n"
     ]
    }
   ],
   "source": [
    "look_ahead_candles = 6\n",
    "percentage_threshold = 2\n",
    "\n",
    "df['buy_signal'] = 0\n",
    "\n",
    "for index in range(len(df) - look_ahead_candles):\n",
    "    current_close = df.at[df.index[index], 'close']\n",
    "\n",
    "    max_future_close = df['close'][index + 1:index + 1 + look_ahead_candles].max()\n",
    "    \n",
    "    max_pct_change = ((max_future_close - current_close) / current_close) * 100\n",
    "    \n",
    "    if max_pct_change >= percentage_threshold:\n",
    "        df.at[df.index[index], 'buy_signal'] = 1\n",
    "\n",
    "print(df[\"buy_signal\"].value_counts())\n",
    "\n",
    "df.to_csv(\"ADA_USDT_Signals2.csv\")"
   ]
  },
  {
   "cell_type": "code",
   "execution_count": 3,
   "metadata": {},
   "outputs": [
    {
     "name": "stdout",
     "output_type": "stream",
     "text": [
      "buy_signal\n",
      "0    385\n",
      "1    244\n",
      "Name: count, dtype: int64\n"
     ]
    }
   ],
   "source": [
    "# Recent data\n",
    "df = pd.read_csv(\"../Data/ADA/ADA_USDT_recent.csv\")\n",
    "df[\"datetime\"] = pd.to_datetime(df[\"datetime\"])\n",
    "df.set_index(\"datetime\", inplace=True)\n",
    "\n",
    "look_ahead_candles = 6\n",
    "percentage_threshold = 2\n",
    "\n",
    "df['buy_signal'] = 0\n",
    "\n",
    "for index in range(len(df) - look_ahead_candles):\n",
    "    current_close = df.at[df.index[index], 'close']\n",
    "\n",
    "    max_future_close = df['close'][index + 1:index + 1 + look_ahead_candles].max()\n",
    "    \n",
    "    max_pct_change = ((max_future_close - current_close) / current_close) * 100\n",
    "    \n",
    "    if max_pct_change >= percentage_threshold:\n",
    "        df.at[df.index[index], 'buy_signal'] = 1\n",
    "\n",
    "print(df[\"buy_signal\"].value_counts())\n",
    "\n",
    "df.to_csv(\"ADA_USDT_Recent_Signals2.csv\")"
   ]
  }
 ],
 "metadata": {
  "kernelspec": {
   "display_name": "Algo-Trading-Projekt-KMheLDPn",
   "language": "python",
   "name": "python3"
  },
  "language_info": {
   "codemirror_mode": {
    "name": "ipython",
    "version": 3
   },
   "file_extension": ".py",
   "mimetype": "text/x-python",
   "name": "python",
   "nbconvert_exporter": "python",
   "pygments_lexer": "ipython3",
   "version": "3.11.5"
  }
 },
 "nbformat": 4,
 "nbformat_minor": 2
}
