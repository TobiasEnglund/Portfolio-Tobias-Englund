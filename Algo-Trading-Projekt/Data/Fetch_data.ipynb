{
 "cells": [
  {
   "cell_type": "markdown",
   "metadata": {},
   "source": [
    "This is a fetching script so that I can fetch more cryptocurrency data.  \n",
    "I use Bybit."
   ]
  },
  {
   "cell_type": "code",
   "execution_count": 14,
   "metadata": {},
   "outputs": [],
   "source": [
    "import os\n",
    "import ccxt\n",
    "import pandas as pd\n",
    "import time\n",
    "from datetime import datetime, timedelta\n",
    "\n",
    "def fetch_crypto_data(symbol):\n",
    "    api_key = os.getenv('BYBIT_API_KEY')\n",
    "    api_secret = os.getenv('BYBIT_API_SECRET')\n",
    "    exchange = ccxt.bybit({\n",
    "        'apiKey': api_key,\n",
    "        'secret': api_secret,\n",
    "    })\n",
    "\n",
    "    timeframe = '15m'\n",
    "    rate_limit_sleep = 1 \n",
    "\n",
    "    start_date = datetime.strptime('2023-12-19 00:00:00', '%Y-%m-%d %H:%M:%S')\n",
    "    end_date = datetime.strptime('2024-04-01 00:00:00', '%Y-%m-%d %H:%M:%S')\n",
    "\n",
    "    all_bars = []\n",
    "\n",
    "    current_time = start_date\n",
    "    while current_time < end_date:\n",
    "        try:\n",
    "            since = int(current_time.timestamp() * 1000)\n",
    "            bars = exchange.fetch_ohlcv(symbol, timeframe=timeframe, since=since, limit=200)\n",
    "            if not bars:\n",
    "                break\n",
    "            all_bars.extend(bars)\n",
    "            last_time = bars[-1][0]\n",
    "            current_time = datetime.utcfromtimestamp(last_time / 1000) + timedelta(hours=4)\n",
    "            time.sleep(rate_limit_sleep)\n",
    "        except ccxt.RateLimitExceeded as e:\n",
    "            print(\"Rate limit exceeded\")\n",
    "            time.sleep(60)\n",
    "        except Exception as e:\n",
    "            print(f\"An error occurred: {e}\")\n",
    "            break\n",
    "\n",
    "    historical_data = pd.DataFrame(all_bars, columns=['datetime', 'open', 'high', 'low', 'close', 'volume'])\n",
    "    historical_data['datetime'] = pd.to_datetime(historical_data['datetime'], unit='ms')\n",
    "    \n",
    "    return historical_data\n",
    "\n",
    "data = fetch_crypto_data('ADA/USDT')\n",
    "data.to_csv(\"ADA_USDT_45m.csv\", index=False)"
   ]
  }
 ],
 "metadata": {
  "kernelspec": {
   "display_name": "Algo-Trading-Projekt-KMheLDPn",
   "language": "python",
   "name": "python3"
  },
  "language_info": {
   "codemirror_mode": {
    "name": "ipython",
    "version": 3
   },
   "file_extension": ".py",
   "mimetype": "text/x-python",
   "name": "python",
   "nbconvert_exporter": "python",
   "pygments_lexer": "ipython3",
   "version": "3.11.5"
  }
 },
 "nbformat": 4,
 "nbformat_minor": 2
}
